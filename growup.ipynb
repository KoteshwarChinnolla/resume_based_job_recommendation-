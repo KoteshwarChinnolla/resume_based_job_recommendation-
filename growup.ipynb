{
 "cells": [
  {
   "cell_type": "code",
   "execution_count": 1,
   "metadata": {},
   "outputs": [],
   "source": [
    "import os\n",
    "from dotenv import load_dotenv\n",
    "load_dotenv()\n",
    "os.environ[\"GROQ_API_KEY\"]= os.getenv(\"GROQ_API_KEY\")"
   ]
  },
  {
   "cell_type": "code",
   "execution_count": 1,
   "metadata": {},
   "outputs": [
    {
     "name": "stdout",
     "output_type": "stream",
     "text": [
      "Collecting bs4\n",
      "  Using cached bs4-0.0.2-py2.py3-none-any.whl.metadata (411 bytes)\n",
      "Collecting beautifulsoup4 (from bs4)\n",
      "  Using cached beautifulsoup4-4.13.3-py3-none-any.whl.metadata (3.8 kB)\n",
      "Collecting soupsieve>1.2 (from beautifulsoup4->bs4)\n",
      "  Using cached soupsieve-2.6-py3-none-any.whl.metadata (4.6 kB)\n",
      "Requirement already satisfied: typing-extensions>=4.0.0 in c:\\users\\chinnnolla koteshwar\\downloads\\chatbot_forgrowup\\venv\\lib\\site-packages (from beautifulsoup4->bs4) (4.13.1)\n",
      "Using cached bs4-0.0.2-py2.py3-none-any.whl (1.2 kB)\n",
      "Using cached beautifulsoup4-4.13.3-py3-none-any.whl (186 kB)\n",
      "Using cached soupsieve-2.6-py3-none-any.whl (36 kB)\n",
      "Installing collected packages: soupsieve, beautifulsoup4, bs4\n",
      "Successfully installed beautifulsoup4-4.13.3 bs4-0.0.2 soupsieve-2.6\n",
      "Note: you may need to restart the kernel to use updated packages.\n"
     ]
    }
   ],
   "source": [
    "pip install bs4"
   ]
  },
  {
   "cell_type": "code",
   "execution_count": 3,
   "metadata": {},
   "outputs": [
    {
     "name": "stdout",
     "output_type": "stream",
     "text": [
      "1. Marketing Technologist : ['Manage a variety of tools and platforms (e.g. CRM systems and marketing automation software) to ensure marketing campaigns have the desired impact on target audiences', 'Draw insights from analytics (website traffic, email open rates, social media engagement, etc.) to help businesses make smarter decisions', 'Look for ways to improve marketing performance by tracking campaign metrics']\n",
      "2. SEO Specialist : ['Research and identify relevant keywords that people use to search for products or services online', 'Create high-impact stories and headlines', 'Tweak website content and HTML code to make it more search engine-friendly', 'Build high-quality backlinks to your website from other reputable sites']\n",
      "3. Web Analytics Developer : ['Set up tracking codes and tags on websites and mobile apps to ethically collect user data', 'Analyze website traffic, user behavior, and conversion rates', 'Design and execute A/B tests to optimize website performance']\n",
      "4. Digital Marketing Manager : ['Attract the right users and convert them into customers', 'Create and execute digital marketing strategies', 'Plan, execute, and analyze digital marketing campaigns (including SEO, social media, email marketing, and content marketing)', 'Manage and mentor a team of digital marketing specialists']\n",
      "5. Social Media Manager : ['Develop and execute social media strategies to achieve specific goals, like boosting brand awareness or driving sales', 'Foster a strong online community by interacting with followers, responding to comments, and building relationships', 'Analyze social media metrics to measure campaign performance', 'Stay on top of the latest social media trends and platforms for brand relevance']\n",
      "6. Growth Hacker : ['Running A/B tests and analyzing metrics to find what works best', 'Use clever strategies like referral programs, viral marketing, and content marketing', 'Improve user experience, from tweaking website design to optimizing the checkout process', 'Work with product, engineering, and sales teams to ensure growth campaigns are aligned with overall business goals']\n",
      "7. Content Manager : ['Write, edit, or oversee content production', 'Work with writers, designers, and other creatives to produce high-quality content', 'Define and implement brand voice', 'Analyze user engagement and shift strategies', 'Analyze content performance metrics']\n",
      "8. Content Strategist : ['Create content strategies that align with business goals', 'Conduct content audits of existing content to identify gaps and opportunities for improvement', 'Optimize content for search engines and analyze performance metrics', 'Work with marketing, design, and development teams for content alignment']\n",
      "9.Information Architect : ['Create site maps and user flows', 'Define data flows and delivery', 'Research concept and usability testing', 'Create content models and classification systems for large amounts of content']\n",
      "10.UX Designer : ['Conduct user research through surveys, interviews, and usability testing', 'Develop prototypes and create mockup designs', 'Research and analyze user experience and behavior', 'Work closely with developers, product managers, and other stakeholders']\n",
      "11. UI Designer : ['Create visually appealing and user-friendly interfaces, including layouts, typography, and color schemes', 'Develop UI kits with reusable design elements', 'Build interactive prototypes to test user flows', 'Test and tweak designs based on feedback and user testing']\n",
      "12. Accessibility Specialist : ['Conduct audits of websites and applications to identify compliance issues', 'Ensure compliance with Web Content Accessibility Guidelines (WCAG)', 'Provide training and guidance to developers, designers, and content creators on accessibility best practices', 'Work closely with development teams to implement accessibility features', 'Test products and services for accessibility']\n",
      "13.Interaction Designer : ['Create wireframes, prototypes, and screen flows', 'Develop user personas, site maps, and mood boards', 'Create interactiveweb designs']\n",
      "14. Front-End Designer : ['Transform mockups into web pages', 'Create visually appealing and user-friendly graphics and interfaces for the web', 'Write clean and efficient code', 'Test and optimize designs', 'Work closely with UX designers, back-end developers, and others to create a cohesive user experience']\n",
      "15.Front-End Developer : ['Build fully functional web pages', 'Collaborate with UI/UX designers, as well as back-end developers, to make sure front-end works seamlessly with server-side logic and databases', 'Optimize website performance', 'Test and troubleshoot across different browsers', 'Maintain and update code to fix bugs, add new features, and make sure the website is up-to-date']\n",
      "16.Mobile Developer : ['Write code to create apps for iOS or Android platforms', 'Make sure apps run smoothly by optimizing load times, reducing bugs, and improving overall performance', 'Test apps on different devices and troubleshoot problems', 'Maintain mobile apps by adding new features, updating them to the latest software version, fixing bugs, and ensuring compatibility with new devices']\n",
      "17.Full-Stack Developer : ['Handle user-facing (front-end) and server-side logic (back-end) of a website or app', 'Design and implement APIs', 'Manage databases', 'Test and troubleshoot front-end and back-end code', 'Collaborate with designers, project managers, and other developers for app integration']\n",
      "18.Software Developer : ['Write code to build apps, websites, or systems', 'Identify and fix bugs', 'Collaborate with other designers, product managers, and programmers', 'Run automated tests or manually test software', 'Maintain and update software']\n",
      "19. WordPress Developer : ['Build and customize themes', 'Install, configure, and develop plugins', 'Maintain website performance', 'Manage site security', 'Collaborate with designers and content teams']\n",
      "20. Frameworks Specialist : ['Recommending and choosing the best frameworks for web or app development', 'Integrating frameworks with existing systems', 'Tweaking and fine-tuning frameworks to improve performance', 'Identifying and resolving any issues related to framework integration', 'Maintaining and updating frameworks so they’re up-to-date']\n",
      "21. React Developer : ['Develop and maintain React components', 'Create interactive and dynamic user interfaces', 'Implement and manage the application’s state', 'Write and implement testing to ensure code quality', 'Collaborate with designers, product managers, and backend developers']\n",
      "22.Python Developer : ['Write and test code', 'Build web applications', 'Write scripts to clean, analyze, and visualize data', 'Develop automation tools to streamline processes', 'Write Python scripts to interact with databases']\n",
      "23.3D Designer : ['Create detailed 3D models', 'Apply textures and shaders to make models look realistic', 'Set up skeletons so 3D models can move realistically when animated', 'Optimize designs for different platforms']\n",
      "24.AR/VR Developer : ['Design and implement AR/VR experiences', 'Develop interactive 3D models and assets', 'Optimize performance across devices', 'Test and debug applications', 'Integrate sensors and hardware so they work with software']\n",
      "25.Game Developer : ['Write code to bring game designs to life', 'Create core game mechanics, level design, and overall gameplay experience', 'Develop game assets, such as characters, environments, and animations', 'Identify and fix bugs and glitches', 'Work with other team members — artists, designers, and sound engineers — to create a cohesive game']\n",
      "26.Augmented Reality (AR) Designer : ['Create intuitive and engaging user experiences for AR applications', 'Design and model 3D objects and environments for AR experiences', 'Set up lighting and rendering techniques to create visually appealing scenes', 'Create interactive prototypes to test and iterate on AR designs']\n",
      "27.Virtual Reality (VR) Designer : ['Create immersive VR experiences that engage users and provide realistic, lifelike experiences’', 'Work with developers to develop design prototypes and 3D models', 'Conduct user testing, gather feedback, and adjust designs to improve usability and overall experience', 'Implement interaction design and mechanics — how users navigate, manipulate, and respond to the virtual environment']\n",
      "28. Business Systems Analyst : ['Collaborate with stakeholders to understand business needs', 'Analyze current systems, identify inefficiencies, and recommend improvements', 'Document and map out business processes', 'Ensure developed systems or software meet requirements']\n",
      "29. Systems Engineer : ['Create and design scalable and reliable system architectures', 'Set up and configure hardware, software, and network systems', 'Monitor system performance, identify issues, and perform regular maintenance on systems', 'Diagnose and fix system malfunctions or outages', 'Ensure system security by applying patches, configuring firewalls, and implementing other security measures']\n",
      "30. Systems Administrator : ['Install, configure, and maintain physical or virtual servers to support business applications and services', 'Monitor the health and performance of systems and networks', 'Create, modify, and manage user accounts and permissions', 'Implement and manage regular backups and make sure data recovery plans are in place']\n",
      "31.AI Developer : ['Build and refine machine learning models that can process data and make predictions or decisions', 'Clean, organize, and prepare data for training AI systems', 'Develop and implement machine learning algorithms', 'Test and evaluate AI models', 'Deploy and implement AI models into systems or applications']\n",
      "32.Algorithm Engineer : ['Create algorithms that solve real-world problems', 'Tweak and refine algorithms to make them faster and more scalable', 'Work with large datasets to uncover patterns and insights to improve algorithms', 'Identify and fix issues in algorithm code', 'Implement machine learning techniques to train algorithms']\n",
      "33.Machine Learning Engineer : ['Design, test, and tweak machine learning algorithms', 'Clean and process data for training algorithms', 'Tune and improve algorithms so they’re fast and scalable', 'Create pipeline systems that allow data to flow through processes', 'Assess the performance of AI models and run experiments to fine-tune them']\n",
      "34.Database Administrator : ['Set up database management systems and configure them for optimal performance and security', 'Monitor and improve the performance of databases by optimizing queries, indexes, and configurations', 'Ensure regular backups of databases and implement disaster recovery plans to protect companies from data loss', 'Manage access controls and encryption to make sure databases are secure from unauthorized access']\n",
      "35. Data Architect : ['Create scalable and efficient data models that structure how data is stored, accessed, and processed across systems', 'Plan and implement processes to integrate data from various sources into a unified system', 'Design and build comprehensive databases and systems that make sure data is easily accessible, secure, and high-performing', 'Establish and enforce policies and standards for data quality, security, privacy, and compliance (data governance)']\n",
      "36. Data Modeler : ['Create detailed data models that define how data is stored, organized, and structured within databases', 'Work closely with business analysts, data architects, and developers', 'Make sure data models are optimized for performance, scalability, and data integrity', 'Develop processes for converting data between different formats', 'Document the design, structure, and logic behind data models to ensure clarity for future development or troubleshooting']\n",
      "37. Data Analyst : ['Gather data from various sources and clean it for analysis', 'Analyze data to uncover patterns, trends, and insights', 'Query databases to retrieve data, perform calculations, and update records', 'Create dashboards and reports to visualize data findings and communicate insights to stakeholders']\n",
      "38. Data Scientist : ['Gather data from multiple sources', 'Clean and transform data into a usable format for analysis', 'Use machine learning algorithms to build models that predict future outcomes', 'Apply statistical techniques to analyze data, test hypotheses, and extract meaningful insights that inform business decisions', 'Create clear and insightful data visualizations']\n",
      "39. Cloud Architect : ['Create scalable, secure, and efficient cloud systems to meet business needs', 'Oversee the setup and management of cloud infrastructure', 'Implement data security, privacy, and compliance best practices', 'Monitor cloud usage and optimize costs', 'Design and implement disaster recovery solutions in the event of cloud outages or system failures']\n",
      "40. Technical Lead : ['Define and oversee the technical direction of projects', 'Provide guidance and support to junior developers to help them grow their skills', 'Review team members’ code to ensure quality, consistency, and adherence to best coding practices', 'Create and validate technical architectures', 'Identify areas where existing code or systems need refactoring or improvement']\n",
      "41. DevOps Manager : ['Automate the deployment pipeline, from code integration to production', 'Set up, maintain, and scale infrastructure using cloud platforms', 'Build and maintain continuous integration/continuous deployment (CI/CD) pipelines', 'Enforce security protocols and compliance requirements']\n",
      "42. Agile Project Manager : ['Lead meetings (daily standups, sprint planning, retrospectives, and sprint reviews) to ensure smooth communication and progress', 'Oversee the sprint cycle and make sure that tasks are properly prioritized to help teams meet deadlines and deliverables', 'Identify and address obstacles or issues that may slow down productivity', 'Track project metrics (task completion, team performance, overall progress) using management tools']\n",
      "43. Product Manager : ['Set a clear vision for products and align them with the company’s strategic goals', 'Manage product backlogs, prioritize features, and make sure the team is working on the most valuable tasks', 'Work closely with developers, designers, marketers, and other team for smooth execution from concept to delivery', 'Develop and maintain product roadmaps to align the team’s efforts with long-term goals', 'Set key performance indicators (KPIs) to track the success of products']\n",
      "44. Technical Account Manager : ['Lead the onboarding process for new clients so they understand the products or services', 'Offer ongoing technical assistance to clients', 'Bridge the gap between the customer and internal teams for alignment on project goals', 'Build and maintain strong, long-term relationships with clients by understanding their needs', 'Advise clients on maximizing the value of their product or service']\n",
      "45. Security Specialist : ['Identify potential security risks in systems, networks, and apps', 'Design and deploy security protocols, firewalls, encryption techniques, and other protective measures', 'Monitor networks and systems for unusual activity for real-time detection of potential security breaches or malware attacks', 'Conduct regular security audits to make sure systems meet standards and comply with industry regulations']\n",
      "46.QA (Quality Assurance) Specialist : ['Develop detailed test plans and strategies to make sure products meet both functional and non-functional requirements', 'Create test cases based on product specifications and identify any issues or bugs throughout execution', 'Perform manual and automated testing to check the performance of software products', 'Identify, document, and track bugs in the system']\n",
      "47. Computer Graphics Animator : ['Design and produce 2D and 3D animations', 'Build 3D assets (characters, objects, and environments)', 'Rig and prepare assets for animation', 'Work with designers, directors, writers, and producers to make sure work aligns with creative direction']\n",
      "48.Mobile App Developer : ['Write clean, efficient code to build the app’s user interface and user experience', 'Connect apps to backend services and databases', 'Test app to identify and fix bugs', 'Submit app to app stores', 'Update the app to fix bugs, add new features, and improve performance']\n"
     ]
    }
   ],
   "source": [
    "import requests\n",
    "from bs4 import BeautifulSoup\n",
    "\n",
    "url = \"https://skillcrush.com/blog/41-tech-job-titles/\"\n",
    "response = requests.get(url)\n",
    "soup = BeautifulSoup(response.text, 'html.parser')\n",
    "\n",
    "role_skills = {}\n",
    "\n",
    "for heading in soup.find_all(\"h3\"):\n",
    "    role = heading.get_text(strip=True)\n",
    "    ul = heading.find_next_sibling()\n",
    "    while ul and ul.name != \"ul\":\n",
    "        ul = ul.find_next_sibling()\n",
    "    if ul and ul.name == \"ul\":\n",
    "        skills = [li.get_text(strip=True) for li in ul.find_all(\"li\")]\n",
    "        if skills:\n",
    "            role_skills[role] = skills\n",
    "\n",
    "# Display result\n",
    "for role, skills in role_skills.items():\n",
    "    print(f\"{role} : {skills}\")\n"
   ]
  }
 ],
 "metadata": {
  "kernelspec": {
   "display_name": "Python 3",
   "language": "python",
   "name": "python3"
  },
  "language_info": {
   "codemirror_mode": {
    "name": "ipython",
    "version": 3
   },
   "file_extension": ".py",
   "mimetype": "text/x-python",
   "name": "python",
   "nbconvert_exporter": "python",
   "pygments_lexer": "ipython3",
   "version": "3.12.0"
  }
 },
 "nbformat": 4,
 "nbformat_minor": 2
}
